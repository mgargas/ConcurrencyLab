{
 "cells": [
  {
   "cell_type": "code",
   "execution_count": 1,
   "metadata": {},
   "outputs": [
    {
     "name": "stderr",
     "output_type": "stream",
     "text": [
      "┌ Info: Recompiling stale cache file /mnt/juliabox/.julia/compiled/v1.0/DataFrames/AR9oZ.ji for DataFrames [a93c6f00-e57d-5684-b7b6-d8193f3e46c0]\n",
      "└ @ Base loading.jl:1184\n",
      "┌ Info: Recompiling stale cache file /mnt/juliabox/.julia/compiled/v1.0/CSV/HHBkp.ji for CSV [336ed68f-0bac-5ca0-87d4-7b16caf5d00b]\n",
      "└ @ Base loading.jl:1184\n"
     ]
    }
   ],
   "source": [
    "using DataFrames\n",
    "using CSV\n",
    "using Statistics"
   ]
  },
  {
   "cell_type": "code",
   "execution_count": 4,
   "metadata": {},
   "outputs": [
    {
     "data": {
      "text/html": [
       "<table class=\"data-frame\"><thead><tr><th></th><th>threadsAmount</th><th>tasksAmount</th><th>time</th></tr><tr><th></th><th>Int64⍰</th><th>Int64⍰</th><th>Int64⍰</th></tr></thead><tbody><tr><th>1</th><td>1</td><td>1</td><td>170964338</td></tr><tr><th>2</th><td>1</td><td>1</td><td>327788277</td></tr><tr><th>3</th><td>1</td><td>1</td><td>440144500</td></tr><tr><th>4</th><td>1</td><td>1</td><td>551643565</td></tr><tr><th>5</th><td>1</td><td>1</td><td>655036181</td></tr><tr><th>6</th><td>1</td><td>1</td><td>756011518</td></tr><tr><th>7</th><td>1</td><td>1</td><td>855772341</td></tr><tr><th>8</th><td>1</td><td>1</td><td>956362783</td></tr><tr><th>9</th><td>1</td><td>1</td><td>1052550634</td></tr><tr><th>10</th><td>1</td><td>1</td><td>1146902777</td></tr><tr><th>11</th><td>1</td><td>4</td><td>216460672</td></tr><tr><th>12</th><td>1</td><td>4</td><td>432729750</td></tr><tr><th>13</th><td>1</td><td>4</td><td>661673856</td></tr><tr><th>14</th><td>1</td><td>4</td><td>880475481</td></tr><tr><th>15</th><td>1</td><td>4</td><td>1096395466</td></tr><tr><th>16</th><td>1</td><td>4</td><td>1312942230</td></tr><tr><th>17</th><td>1</td><td>4</td><td>1526706779</td></tr><tr><th>18</th><td>1</td><td>4</td><td>1742685741</td></tr><tr><th>19</th><td>1</td><td>4</td><td>1960200495</td></tr><tr><th>20</th><td>1</td><td>4</td><td>2173400571</td></tr><tr><th>21</th><td>1</td><td>8</td><td>389590353</td></tr><tr><th>22</th><td>1</td><td>8</td><td>776246339</td></tr><tr><th>23</th><td>1</td><td>8</td><td>1165894480</td></tr><tr><th>24</th><td>1</td><td>8</td><td>1551017343</td></tr><tr><th>25</th><td>1</td><td>8</td><td>1941452266</td></tr><tr><th>26</th><td>1</td><td>8</td><td>2329817581</td></tr><tr><th>27</th><td>1</td><td>8</td><td>2712692389</td></tr><tr><th>28</th><td>1</td><td>8</td><td>3099224392</td></tr><tr><th>29</th><td>1</td><td>8</td><td>3486128543</td></tr><tr><th>30</th><td>1</td><td>8</td><td>3872050531</td></tr><tr><th>&vellip;</th><td>&vellip;</td><td>&vellip;</td><td>&vellip;</td></tr></tbody></table>"
      ],
      "text/plain": [
       "210×3 DataFrame\n",
       "│ Row │ threadsAmount │ tasksAmount │ time         │\n",
       "│     │ \u001b[90mInt64⍰\u001b[39m        │ \u001b[90mInt64⍰\u001b[39m      │ \u001b[90mInt64⍰\u001b[39m       │\n",
       "├─────┼───────────────┼─────────────┼──────────────┤\n",
       "│ 1   │ 1             │ 1           │ 170964338    │\n",
       "│ 2   │ 1             │ 1           │ 327788277    │\n",
       "│ 3   │ 1             │ 1           │ 440144500    │\n",
       "│ 4   │ 1             │ 1           │ 551643565    │\n",
       "│ 5   │ 1             │ 1           │ 655036181    │\n",
       "│ 6   │ 1             │ 1           │ 756011518    │\n",
       "│ 7   │ 1             │ 1           │ 855772341    │\n",
       "│ 8   │ 1             │ 1           │ 956362783    │\n",
       "│ 9   │ 1             │ 1           │ 1052550634   │\n",
       "│ 10  │ 1             │ 1           │ 1146902777   │\n",
       "⋮\n",
       "│ 200 │ 8             │ 80          │ 116579080496 │\n",
       "│ 201 │ 8             │ 480000      │ 13852661     │\n",
       "│ 202 │ 8             │ 480000      │ 27529789     │\n",
       "│ 203 │ 8             │ 480000      │ 41233366     │\n",
       "│ 204 │ 8             │ 480000      │ 55295147     │\n",
       "│ 205 │ 8             │ 480000      │ 69028215     │\n",
       "│ 206 │ 8             │ 480000      │ 82897527     │\n",
       "│ 207 │ 8             │ 480000      │ 96973063     │\n",
       "│ 208 │ 8             │ 480000      │ 110767881    │\n",
       "│ 209 │ 8             │ 480000      │ 124940556    │\n",
       "│ 210 │ 8             │ 480000      │ 204955108    │"
      ]
     },
     "execution_count": 4,
     "metadata": {},
     "output_type": "execute_result"
    }
   ],
   "source": [
    "input=\"measurements.csv\"\n",
    "configuration_times=CSV.read(input, delim=\",\")"
   ]
  },
  {
   "cell_type": "code",
   "execution_count": 6,
   "metadata": {},
   "outputs": [
    {
     "data": {
      "text/html": [
       "<table class=\"data-frame\"><thead><tr><th></th><th>threadsAmount</th><th>tasksAmount</th><th>Mean</th><th>Stv</th></tr><tr><th></th><th>Int64⍰</th><th>Int64⍰</th><th>Float64</th><th>Float64</th></tr></thead><tbody><tr><th>1</th><td>1</td><td>1</td><td>6.91318e8</td><td>3.20825e8</td></tr><tr><th>2</th><td>1</td><td>4</td><td>1.20037e9</td><td>6.58119e8</td></tr><tr><th>3</th><td>1</td><td>8</td><td>2.13241e9</td><td>1.17164e9</td></tr><tr><th>4</th><td>1</td><td>10</td><td>2.61404e9</td><td>1.43612e9</td></tr><tr><th>5</th><td>1</td><td>40</td><td>9.65868e9</td><td>5.3154e9</td></tr><tr><th>6</th><td>1</td><td>80</td><td>1.79595e10</td><td>9.8643e9</td></tr><tr><th>7</th><td>1</td><td>480000</td><td>1.78456e8</td><td>2.83644e8</td></tr><tr><th>8</th><td>4</td><td>1</td><td>5.31027e8</td><td>2.8667e8</td></tr><tr><th>9</th><td>4</td><td>4</td><td>1.9561e9</td><td>1.04872e9</td></tr><tr><th>10</th><td>4</td><td>8</td><td>3.90034e9</td><td>2.16945e9</td></tr><tr><th>11</th><td>4</td><td>10</td><td>4.66696e9</td><td>2.57144e9</td></tr><tr><th>12</th><td>4</td><td>40</td><td>1.70654e10</td><td>9.41593e9</td></tr><tr><th>13</th><td>4</td><td>80</td><td>3.20906e10</td><td>1.76378e10</td></tr><tr><th>14</th><td>4</td><td>480000</td><td>9.62193e7</td><td>5.33993e7</td></tr><tr><th>15</th><td>8</td><td>1</td><td>5.37729e8</td><td>2.9715e8</td></tr><tr><th>16</th><td>8</td><td>4</td><td>1.96063e9</td><td>1.08982e9</td></tr><tr><th>17</th><td>8</td><td>8</td><td>5.34325e9</td><td>2.93941e9</td></tr><tr><th>18</th><td>8</td><td>10</td><td>7.51998e9</td><td>4.1871e9</td></tr><tr><th>19</th><td>8</td><td>40</td><td>3.41911e10</td><td>1.8983e10</td></tr><tr><th>20</th><td>8</td><td>80</td><td>6.39765e10</td><td>3.53175e10</td></tr><tr><th>21</th><td>8</td><td>480000</td><td>8.27473e7</td><td>5.59397e7</td></tr></tbody></table>"
      ],
      "text/plain": [
       "21×4 DataFrame\n",
       "│ Row │ threadsAmount │ tasksAmount │ Mean       │ Stv        │\n",
       "│     │ \u001b[90mInt64⍰\u001b[39m        │ \u001b[90mInt64⍰\u001b[39m      │ \u001b[90mFloat64\u001b[39m    │ \u001b[90mFloat64\u001b[39m    │\n",
       "├─────┼───────────────┼─────────────┼────────────┼────────────┤\n",
       "│ 1   │ 1             │ 1           │ 6.91318e8  │ 3.20825e8  │\n",
       "│ 2   │ 1             │ 4           │ 1.20037e9  │ 6.58119e8  │\n",
       "│ 3   │ 1             │ 8           │ 2.13241e9  │ 1.17164e9  │\n",
       "│ 4   │ 1             │ 10          │ 2.61404e9  │ 1.43612e9  │\n",
       "│ 5   │ 1             │ 40          │ 9.65868e9  │ 5.3154e9   │\n",
       "│ 6   │ 1             │ 80          │ 1.79595e10 │ 9.8643e9   │\n",
       "│ 7   │ 1             │ 480000      │ 1.78456e8  │ 2.83644e8  │\n",
       "│ 8   │ 4             │ 1           │ 5.31027e8  │ 2.8667e8   │\n",
       "│ 9   │ 4             │ 4           │ 1.9561e9   │ 1.04872e9  │\n",
       "│ 10  │ 4             │ 8           │ 3.90034e9  │ 2.16945e9  │\n",
       "│ 11  │ 4             │ 10          │ 4.66696e9  │ 2.57144e9  │\n",
       "│ 12  │ 4             │ 40          │ 1.70654e10 │ 9.41593e9  │\n",
       "│ 13  │ 4             │ 80          │ 3.20906e10 │ 1.76378e10 │\n",
       "│ 14  │ 4             │ 480000      │ 9.62193e7  │ 5.33993e7  │\n",
       "│ 15  │ 8             │ 1           │ 5.37729e8  │ 2.9715e8   │\n",
       "│ 16  │ 8             │ 4           │ 1.96063e9  │ 1.08982e9  │\n",
       "│ 17  │ 8             │ 8           │ 5.34325e9  │ 2.93941e9  │\n",
       "│ 18  │ 8             │ 10          │ 7.51998e9  │ 4.1871e9   │\n",
       "│ 19  │ 8             │ 40          │ 3.41911e10 │ 1.8983e10  │\n",
       "│ 20  │ 8             │ 80          │ 6.39765e10 │ 3.53175e10 │\n",
       "│ 21  │ 8             │ 480000      │ 8.27473e7  │ 5.59397e7  │"
      ]
     },
     "execution_count": 6,
     "metadata": {},
     "output_type": "execute_result"
    }
   ],
   "source": [
    "df_configuration_times = by(configuration_times, [:threadsAmount, :tasksAmount]) do subGroup\n",
    "        DataFrame(Mean = mean(subGroup.time), Stv = std(subGroup.time))\n",
    "    end"
   ]
  },
  {
   "cell_type": "code",
   "execution_count": 11,
   "metadata": {},
   "outputs": [],
   "source": [
    "sort!(df_configuration_times, (:Mean),\n",
    "                    rev = (false));"
   ]
  },
  {
   "cell_type": "code",
   "execution_count": 12,
   "metadata": {},
   "outputs": [
    {
     "data": {
      "text/html": [
       "<table class=\"data-frame\"><thead><tr><th></th><th>threadsAmount</th><th>tasksAmount</th><th>Mean</th><th>Stv</th></tr><tr><th></th><th>Int64⍰</th><th>Int64⍰</th><th>Float64</th><th>Float64</th></tr></thead><tbody><tr><th>1</th><td>8</td><td>480000</td><td>8.27473e7</td><td>5.59397e7</td></tr><tr><th>2</th><td>4</td><td>480000</td><td>9.62193e7</td><td>5.33993e7</td></tr><tr><th>3</th><td>1</td><td>480000</td><td>1.78456e8</td><td>2.83644e8</td></tr><tr><th>4</th><td>4</td><td>1</td><td>5.31027e8</td><td>2.8667e8</td></tr><tr><th>5</th><td>8</td><td>1</td><td>5.37729e8</td><td>2.9715e8</td></tr><tr><th>6</th><td>1</td><td>1</td><td>6.91318e8</td><td>3.20825e8</td></tr><tr><th>7</th><td>1</td><td>4</td><td>1.20037e9</td><td>6.58119e8</td></tr><tr><th>8</th><td>4</td><td>4</td><td>1.9561e9</td><td>1.04872e9</td></tr><tr><th>9</th><td>8</td><td>4</td><td>1.96063e9</td><td>1.08982e9</td></tr><tr><th>10</th><td>1</td><td>8</td><td>2.13241e9</td><td>1.17164e9</td></tr><tr><th>11</th><td>1</td><td>10</td><td>2.61404e9</td><td>1.43612e9</td></tr><tr><th>12</th><td>4</td><td>8</td><td>3.90034e9</td><td>2.16945e9</td></tr><tr><th>13</th><td>4</td><td>10</td><td>4.66696e9</td><td>2.57144e9</td></tr><tr><th>14</th><td>8</td><td>8</td><td>5.34325e9</td><td>2.93941e9</td></tr><tr><th>15</th><td>8</td><td>10</td><td>7.51998e9</td><td>4.1871e9</td></tr><tr><th>16</th><td>1</td><td>40</td><td>9.65868e9</td><td>5.3154e9</td></tr><tr><th>17</th><td>4</td><td>40</td><td>1.70654e10</td><td>9.41593e9</td></tr><tr><th>18</th><td>1</td><td>80</td><td>1.79595e10</td><td>9.8643e9</td></tr><tr><th>19</th><td>4</td><td>80</td><td>3.20906e10</td><td>1.76378e10</td></tr><tr><th>20</th><td>8</td><td>40</td><td>3.41911e10</td><td>1.8983e10</td></tr><tr><th>21</th><td>8</td><td>80</td><td>6.39765e10</td><td>3.53175e10</td></tr></tbody></table>"
      ],
      "text/plain": [
       "21×4 DataFrame\n",
       "│ Row │ threadsAmount │ tasksAmount │ Mean       │ Stv        │\n",
       "│     │ \u001b[90mInt64⍰\u001b[39m        │ \u001b[90mInt64⍰\u001b[39m      │ \u001b[90mFloat64\u001b[39m    │ \u001b[90mFloat64\u001b[39m    │\n",
       "├─────┼───────────────┼─────────────┼────────────┼────────────┤\n",
       "│ 1   │ 8             │ 480000      │ 8.27473e7  │ 5.59397e7  │\n",
       "│ 2   │ 4             │ 480000      │ 9.62193e7  │ 5.33993e7  │\n",
       "│ 3   │ 1             │ 480000      │ 1.78456e8  │ 2.83644e8  │\n",
       "│ 4   │ 4             │ 1           │ 5.31027e8  │ 2.8667e8   │\n",
       "│ 5   │ 8             │ 1           │ 5.37729e8  │ 2.9715e8   │\n",
       "│ 6   │ 1             │ 1           │ 6.91318e8  │ 3.20825e8  │\n",
       "│ 7   │ 1             │ 4           │ 1.20037e9  │ 6.58119e8  │\n",
       "│ 8   │ 4             │ 4           │ 1.9561e9   │ 1.04872e9  │\n",
       "│ 9   │ 8             │ 4           │ 1.96063e9  │ 1.08982e9  │\n",
       "│ 10  │ 1             │ 8           │ 2.13241e9  │ 1.17164e9  │\n",
       "│ 11  │ 1             │ 10          │ 2.61404e9  │ 1.43612e9  │\n",
       "│ 12  │ 4             │ 8           │ 3.90034e9  │ 2.16945e9  │\n",
       "│ 13  │ 4             │ 10          │ 4.66696e9  │ 2.57144e9  │\n",
       "│ 14  │ 8             │ 8           │ 5.34325e9  │ 2.93941e9  │\n",
       "│ 15  │ 8             │ 10          │ 7.51998e9  │ 4.1871e9   │\n",
       "│ 16  │ 1             │ 40          │ 9.65868e9  │ 5.3154e9   │\n",
       "│ 17  │ 4             │ 40          │ 1.70654e10 │ 9.41593e9  │\n",
       "│ 18  │ 1             │ 80          │ 1.79595e10 │ 9.8643e9   │\n",
       "│ 19  │ 4             │ 80          │ 3.20906e10 │ 1.76378e10 │\n",
       "│ 20  │ 8             │ 40          │ 3.41911e10 │ 1.8983e10  │\n",
       "│ 21  │ 8             │ 80          │ 6.39765e10 │ 3.53175e10 │"
      ]
     },
     "execution_count": 12,
     "metadata": {},
     "output_type": "execute_result"
    }
   ],
   "source": [
    "df_configuration_times"
   ]
  }
 ],
 "metadata": {
  "kernelspec": {
   "display_name": "Julia 1.0.0",
   "language": "julia",
   "name": "julia-1.0"
  },
  "language_info": {
   "file_extension": ".jl",
   "mimetype": "application/julia",
   "name": "julia",
   "version": "1.0.0"
  }
 },
 "nbformat": 4,
 "nbformat_minor": 2
}
